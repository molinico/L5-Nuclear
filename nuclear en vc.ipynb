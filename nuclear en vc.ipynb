{
 "cells": [
  {
   "cell_type": "markdown",
   "metadata": {},
   "source": [
    "# L5 G1 Nuclear"
   ]
  },
  {
   "cell_type": "code",
   "execution_count": 8,
   "metadata": {},
   "outputs": [],
   "source": [
    "import matplotlib.pyplot as plt\n",
    "import numpy as np\n",
    "import math\n",
    "import time\n",
    "import scipy.signal\n",
    "from scipy.optimize import curve_fit\n",
    "import pandas as pd\n",
    "import os\n",
    "\n",
    "os.chdir (r'C:\\Users\\Sergio\\Desktop\\labo5\\nuclear\\codigos nuclear')\n",
    "#get_ipython().run_line_magic('matplotlib', 'inline')\n",
    "get_ipython().run_line_magic('matplotlib', 'qt5')"
   ]
  },
  {
   "cell_type": "markdown",
   "metadata": {},
   "source": [
    "## Bismuto 207 "
   ]
  },
  {
   "cell_type": "code",
   "execution_count": 14,
   "metadata": {},
   "outputs": [
    {
     "data": {
      "text/plain": [
       "Text(0, 0.5, 'Cuentas')"
      ]
     },
     "execution_count": 14,
     "metadata": {},
     "output_type": "execute_result"
    }
   ],
   "source": [
    "file1 = 'datobismuto4largo.txt'\n",
    "plt.close('all')\n",
    "\n",
    "y= np.loadtxt(file1, delimiter=',', skiprows=0, unpack=True)\n",
    "\n",
    "xmax,ymax = scipy.signal.find_peaks(y,height = 0.01)\n",
    "\n",
    "plt.scatter(xmax,y[xmax], color='red')\n",
    "plt.plot(y)\n",
    "plt.grid()\n",
    "plt.title('Bismuto 207')\n",
    "plt.ylabel('V')\n",
    "plt.xlabel(\"Tiempo (s)\")\n",
    "plt.show()\n",
    "\n",
    "#plt.figure()\n",
    "fig, axs = plt.subplots()\n",
    "bins = np.linspace(0,1,50)\n",
    "axs.hist(y[xmax],bins = bins)\n",
    "axs.set_title(\"Histograma picos\")\n",
    "axs.set_yscale(\"log\")\n",
    "axs.set_xlabel(\"Voltaje (v)\")\n",
    "axs.set_ylabel(\"Cuentas\")"
   ]
  },
  {
   "cell_type": "markdown",
   "metadata": {},
   "source": [
    "## Cesio 137"
   ]
  },
  {
   "cell_type": "code",
   "execution_count": 26,
   "metadata": {},
   "outputs": [
    {
     "data": {
      "text/plain": [
       "Text(0, 0.5, 'Cuentas')"
      ]
     },
     "execution_count": 26,
     "metadata": {},
     "output_type": "execute_result"
    }
   ],
   "source": [
    "file2 = 'datoscesio4.txt'\n",
    "plt.close('all')\n",
    "\n",
    "y= np.loadtxt(file2, delimiter=',', skiprows=0, unpack=True)\n",
    "\n",
    "xmax,ymax = scipy.signal.find_peaks(y,height = 0.01)\n",
    "\n",
    "plt.scatter(xmax,y[xmax], color='red')\n",
    "plt.plot(y)\n",
    "plt.grid()\n",
    "plt.title('Cesio 137')\n",
    "plt.ylabel('V')\n",
    "plt.xlabel(\"Tiempo (s)\")\n",
    "plt.show()\n",
    "\n",
    "#plt.figure() \n",
    "fig, axs = plt.subplots()\n",
    "bins = np.linspace(0,1,50)\n",
    "axs.hist(y[xmax],bins = bins)\n",
    "axs.set_title(\"Histograma picos\")\n",
    "axs.set_yscale(\"log\")\n",
    "axs.set_xlabel(\"Voltaje (v)\")\n",
    "axs.set_ylabel(\"Cuentas\")"
   ]
  },
  {
   "cell_type": "markdown",
   "metadata": {},
   "source": [
    "## Varios histogramas en uno"
   ]
  },
  {
   "cell_type": "code",
   "execution_count": 29,
   "metadata": {},
   "outputs": [
    {
     "data": {
      "text/plain": [
       "<matplotlib.legend.Legend at 0x22a00a3e820>"
      ]
     },
     "execution_count": 29,
     "metadata": {},
     "output_type": "execute_result"
    }
   ],
   "source": [
    "file1 = np.loadtxt('datobismuto4largo.txt')\n",
    "file2= np.loadtxt('datoscesio4.txt')\n",
    "plt.close('all')\n",
    "\n",
    "fig, axs = plt.subplots()\n",
    "bins = np.linspace(0,1.2,50)\n",
    "axs.hist(file1,bins = bins)\n",
    "axs.set_title(\"Histograma picos\")\n",
    "axs.set_yscale(\"log\")\n",
    "axs.set_xlabel(\"Voltaje (v)\")\n",
    "axs.set_ylabel(\"Cuentas\")\n",
    "axs.hist(file2,bins = bins)\n",
    "axs.set_title(\"Histograma picos\")\n",
    "axs.set_yscale(\"log\")\n",
    "axs.set_xlabel(\"Voltaje (v)\")\n",
    "axs.set_ylabel(\"Cuentas\")\n",
    "axs.legend(['Bismuto','Cesio'])"
   ]
  },
  {
   "cell_type": "markdown",
   "metadata": {},
   "source": [
    "### Para unir txts"
   ]
  },
  {
   "cell_type": "code",
   "execution_count": 30,
   "metadata": {},
   "outputs": [
    {
     "ename": "SyntaxError",
     "evalue": "invalid syntax (279875953.py, line 10)",
     "output_type": "error",
     "traceback": [
      "\u001b[1;36m  Cell \u001b[1;32mIn [30], line 10\u001b[1;36m\u001b[0m\n\u001b[1;33m    for j in files\u001b[0m\n\u001b[1;37m                  ^\u001b[0m\n\u001b[1;31mSyntaxError\u001b[0m\u001b[1;31m:\u001b[0m invalid syntax\n"
     ]
    }
   ],
   "source": [
    "txt1='datoscesio1.txt'\n",
    "txt2='datoscesio2.txt'\n",
    "\n",
    "files=[txt1 , txt2]\n",
    "\n",
    "j=0\n",
    "datosx = np.array([])\n",
    "datosy= np.array([])\n",
    "\n",
    "for j in files\n",
    "    j=j+1\n",
    "    xmax,ymax = scipy.signal.find_peaks(j,height = 0.01)\n",
    "    datosx = np.concatenate([datosx, xmax], axis = None)\n",
    "    datosy= np.concatenate([datosy, y[xmax]], axis = None)\n",
    "\n",
    "np.savetxt('txtlargoprueba.txt', datosy)"
   ]
  },
  {
   "cell_type": "code",
   "execution_count": null,
   "metadata": {},
   "outputs": [],
   "source": []
  }
 ],
 "metadata": {
  "kernelspec": {
   "display_name": "Python 3.9.11 ('labo')",
   "language": "python",
   "name": "python3"
  },
  "language_info": {
   "codemirror_mode": {
    "name": "ipython",
    "version": 3
   },
   "file_extension": ".py",
   "mimetype": "text/x-python",
   "name": "python",
   "nbconvert_exporter": "python",
   "pygments_lexer": "ipython3",
   "version": "3.9.11"
  },
  "orig_nbformat": 4,
  "vscode": {
   "interpreter": {
    "hash": "5e9d24198287529ab0983412794614a9ec7f333a6d0ec6a5664320e8eb8f57c1"
   }
  }
 },
 "nbformat": 4,
 "nbformat_minor": 2
}
